{
  "metadata": {
    "kernelspec": {
      "name": "python",
      "display_name": "Python (Pyodide)",
      "language": "python"
    },
    "language_info": {
      "codemirror_mode": {
        "name": "python",
        "version": 3
      },
      "file_extension": ".py",
      "mimetype": "text/x-python",
      "name": "python",
      "nbconvert_exporter": "python",
      "pygments_lexer": "ipython3",
      "version": "3.8"
    }
  },
  "nbformat_minor": 4,
  "nbformat": 4,
  "cells": [
    {
      "cell_type": "markdown",
      "source": "## **Final Assignment**\n\n## I used Jupyterlite notebook, as instructed in the course, to complete my assignment. I was asked to write combination of markdowns and codes. Below are my answers to assignment questions.",
      "metadata": {}
    },
    {
      "cell_type": "markdown",
      "source": "### Exercise 1: Create a Jupyter Notebook\nCreate a new Jupyter notebook called DataScienceEcosystem.ipynb\n\n**My answer:** Notebook created",
      "metadata": {}
    },
    {
      "cell_type": "markdown",
      "source": "### Exercise 2: Create markdown cell with title of the notebook\nCreate a markdown cell with the title Data Science Tools and Ecosystem using H1 style heading.",
      "metadata": {}
    },
    {
      "cell_type": "markdown",
      "source": "**My answer:**\n# Data Science Tools and Ecosystem",
      "metadata": {}
    },
    {
      "cell_type": "markdown",
      "source": "### Exercise 3 - Create a markdown cell for an introduction\nWrite an introductory sentence about the notebook such as the follows:\nIn this notebook, Data Science Tools and Ecosystem are summarized.",
      "metadata": {}
    },
    {
      "cell_type": "markdown",
      "source": "**My answer:**\n## In this notebook, Data Science Tools and Ecosystem are summarized\n",
      "metadata": {}
    },
    {
      "cell_type": "markdown",
      "source": "##### **Objectives:**\n- Create a Jupyter Notebook\n- List popular languages for Data Science\n- list data science libraries\n- Insert code and markdown cells\n- Share your notebook through GitHub",
      "metadata": {}
    },
    {
      "cell_type": "markdown",
      "source": "### Exercise 4 - Create a markdown cell to list data science languages\nStart the cell with an overview line such as:\nSome of the popular languages that Data Scientists use are:\nThen create an ordered list (i.e. numbered) listing 3 (or more) commonly used languages for data science.",
      "metadata": {}
    },
    {
      "cell_type": "markdown",
      "source": "**My answer:**\n\nFew of popular languages that Data Scientists use are:\n1. Python\n2. R\n3. SQL\n4. Java\n5. Julia",
      "metadata": {}
    },
    {
      "cell_type": "markdown",
      "source": "### Exercise 5 - Create a markdown cell to list data science libraries\nAdd an overview line to the cell like:\nSome of the commonly used libraries used by Data Scientists include:\nBelow this line add an ordered list listing 3 (or more) commonly used libraries in data science.",
      "metadata": {}
    },
    {
      "cell_type": "markdown",
      "source": "**My answer:**\n\n***Some of the commonly used libraries used by Data Scientists include:***\n1. TensorFlow\n2. NumPy\n3. SciPy\n4. Pandas\n5. Matplotlib\n6. Keras\n7. SciKit-Learn\n8. PyTorch\n9. Scrapy\n10. BeautifulSoup",
      "metadata": {}
    },
    {
      "cell_type": "markdown",
      "source": "### Exercise 6 - Create a markdown cell with a table of Data Science tools\nCreate a single column table in this cell with the first row containing the header\nData Science Tools. \nThe subsequent three rows in the table should indicate three development environment open source tools used in data science.",
      "metadata": {}
    },
    {
      "cell_type": "markdown",
      "source": "**My answer:**\n\n|**Data Science Tools**|\n|----------------------|\n|Jupyter Notebooks| \n|VisualStudio (VS) Code|\n|JupyterLab|\n",
      "metadata": {}
    },
    {
      "cell_type": "markdown",
      "source": "### Exercise 7 - Create a markdown cell introducing arithmetic expression examples\nAdd a line in this cell with H3 style heading with text like:\nBelow are a few examples of evaluating arithmetic expressions in Python.",
      "metadata": {}
    },
    {
      "cell_type": "markdown",
      "source": "**My answer:**\n\nBelow are a few examples of evaluating arithmetic expressions in Python:",
      "metadata": {}
    },
    {
      "cell_type": "code",
      "source": "6+4*6",
      "metadata": {
        "trusted": true
      },
      "outputs": [
        {
          "execution_count": 1,
          "output_type": "execute_result",
          "data": {
            "text/plain": "30"
          },
          "metadata": {}
        }
      ],
      "execution_count": 1
    },
    {
      "cell_type": "code",
      "source": "X = compile (\"(7**2) - 4\", \"string\", \"eval\")\nprint(\"X =\",eval(X))\n",
      "metadata": {
        "trusted": true
      },
      "outputs": [
        {
          "name": "stdout",
          "text": "X = 45\n",
          "output_type": "stream"
        }
      ],
      "execution_count": 2
    },
    {
      "cell_type": "code",
      "source": "# below is a code to calculate area of a triangle\n# b= base  ;  h = height\n\nimport math\nb=5\nh=6\nTriangleArea = compile(\"b * h / 2\", \"<string>\", \"eval\")\neval(TriangleArea)\nprint(\"Triangle Area =\",eval(TriangleArea))",
      "metadata": {
        "trusted": true
      },
      "outputs": [
        {
          "name": "stdout",
          "text": "Triangle Area = 15.0\n",
          "output_type": "stream"
        }
      ],
      "execution_count": 3
    },
    {
      "cell_type": "markdown",
      "source": "### Exercise 8 - Create a code cell to multiply and add numbers\nIn this code cell evaluate the expression (3*4)+5\nInsert a comment line before the expression to explain the operation e.g. This a simple arithmeticexpression to mutiply then add integers.",
      "metadata": {}
    },
    {
      "cell_type": "markdown",
      "source": "**My answer:**",
      "metadata": {}
    },
    {
      "cell_type": "code",
      "source": "# This a simple arithmetic expression to mutiply then add integers.\n(3*4)+5",
      "metadata": {
        "trusted": true
      },
      "outputs": [
        {
          "execution_count": 4,
          "output_type": "execute_result",
          "data": {
            "text/plain": "17"
          },
          "metadata": {}
        }
      ],
      "execution_count": 4
    },
    {
      "cell_type": "markdown",
      "source": "### Exercise 9 - Create a code cell to convert minutes to hours\nIn this code cell write an expression that converts 200 minutes into hours.",
      "metadata": {}
    },
    {
      "cell_type": "markdown",
      "source": "**My answer:**",
      "metadata": {}
    },
    {
      "cell_type": "code",
      "source": "# This will convert 200 minutes to hours by dividing by 60.\n\nmins = 200\nhours = mins / 60\nprint(str(hours), \" hours, \" + str(mins),  \" mins. \")",
      "metadata": {
        "trusted": true
      },
      "outputs": [
        {
          "name": "stdout",
          "text": "3.3333333333333335  hours, 200  mins. \n",
          "output_type": "stream"
        }
      ],
      "execution_count": 5
    },
    {
      "cell_type": "markdown",
      "source": "### Exercise 10 - Insert a markdown cell to list Objectives\nBelow the introduction cell created in Exercise 3, insert a new markdown cell to list the objectives that this notebook covered (i.e. some of the key takeaways from the course). In this new cell start with an introductory line titled:\nObjectives: in bold font. Then using an unordered list\n(bullets) indicate 3 to 5 items covered inthis notebook, such as List popular languages for Data Science.",
      "metadata": {}
    },
    {
      "cell_type": "markdown",
      "source": "### Exercise 11 - Create a markdown cell to indicate the Author's name\nIn this markdown cell include the following text\nAuthor in H2 style heading. Include your name as regular text below the word Author.",
      "metadata": {}
    },
    {
      "cell_type": "markdown",
      "source": "## Author:\nMehrdad Tavana",
      "metadata": {}
    }
  ]
}